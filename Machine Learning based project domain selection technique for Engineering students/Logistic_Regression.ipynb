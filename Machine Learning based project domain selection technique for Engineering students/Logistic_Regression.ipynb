{
  "nbformat": 4,
  "nbformat_minor": 0,
  "metadata": {
    "colab": {
      "name": "Logistic Regression.ipynb",
      "provenance": [],
      "collapsed_sections": []
    },
    "kernelspec": {
      "name": "python3",
      "display_name": "Python 3"
    },
    "language_info": {
      "name": "python"
    }
  },
  "cells": [
    {
      "cell_type": "markdown",
      "source": [
        "# Logistic Regression"
      ],
      "metadata": {
        "id": "ZUiIo6t_yFvB"
      }
    },
    {
      "cell_type": "code",
      "execution_count": 3,
      "metadata": {
        "colab": {
          "base_uri": "https://localhost:8080/"
        },
        "id": "sI1gxGJQpRDz",
        "outputId": "99a96f72-78f1-4996-ea2c-13e04faccd6c"
      },
      "outputs": [
        {
          "output_type": "stream",
          "name": "stdout",
          "text": [
            "Requirement already satisfied: scikit-plot in /usr/local/lib/python3.7/dist-packages (0.3.7)\n",
            "Requirement already satisfied: matplotlib>=1.4.0 in /usr/local/lib/python3.7/dist-packages (from scikit-plot) (3.2.2)\n",
            "Requirement already satisfied: scipy>=0.9 in /usr/local/lib/python3.7/dist-packages (from scikit-plot) (1.4.1)\n",
            "Requirement already satisfied: joblib>=0.10 in /usr/local/lib/python3.7/dist-packages (from scikit-plot) (1.1.0)\n",
            "Requirement already satisfied: scikit-learn>=0.18 in /usr/local/lib/python3.7/dist-packages (from scikit-plot) (1.0.2)\n",
            "Requirement already satisfied: pyparsing!=2.0.4,!=2.1.2,!=2.1.6,>=2.0.1 in /usr/local/lib/python3.7/dist-packages (from matplotlib>=1.4.0->scikit-plot) (3.0.7)\n",
            "Requirement already satisfied: cycler>=0.10 in /usr/local/lib/python3.7/dist-packages (from matplotlib>=1.4.0->scikit-plot) (0.11.0)\n",
            "Requirement already satisfied: kiwisolver>=1.0.1 in /usr/local/lib/python3.7/dist-packages (from matplotlib>=1.4.0->scikit-plot) (1.3.2)\n",
            "Requirement already satisfied: numpy>=1.11 in /usr/local/lib/python3.7/dist-packages (from matplotlib>=1.4.0->scikit-plot) (1.21.5)\n",
            "Requirement already satisfied: python-dateutil>=2.1 in /usr/local/lib/python3.7/dist-packages (from matplotlib>=1.4.0->scikit-plot) (2.8.2)\n",
            "Requirement already satisfied: six>=1.5 in /usr/local/lib/python3.7/dist-packages (from python-dateutil>=2.1->matplotlib>=1.4.0->scikit-plot) (1.15.0)\n",
            "Requirement already satisfied: threadpoolctl>=2.0.0 in /usr/local/lib/python3.7/dist-packages (from scikit-learn>=0.18->scikit-plot) (3.1.0)\n"
          ]
        }
      ],
      "source": [
        "# Importing important libraries\n",
        "\n",
        "import pandas as pd\n",
        "import numpy as np\n",
        "import matplotlib.pyplot as plt\n",
        "import seaborn as sns\n",
        "from sklearn.model_selection import train_test_split\n",
        "from sklearn.linear_model import LogisticRegression\n",
        "from sklearn.metrics import accuracy_score, confusion_matrix, r2_score, log_loss,mean_squared_error\n",
        "import math\n",
        "from sklearn.preprocessing import LabelEncoder\n",
        "!pip install scikit-plot\n",
        "import scikitplot as skplt\n",
        "from sklearn.metrics import classification_report\n",
        "import warnings\n",
        "warnings.filterwarnings('ignore')"
      ]
    },
    {
      "cell_type": "code",
      "source": [
        "df = pd.read_csv('Project.csv')\n",
        "df.head()"
      ],
      "metadata": {
        "colab": {
          "base_uri": "https://localhost:8080/",
          "height": 206
        },
        "id": "V2RtgHsjpWo6",
        "outputId": "89eb877a-454d-4358-e447-7763c8ffa441"
      },
      "execution_count": 4,
      "outputs": [
        {
          "output_type": "execute_result",
          "data": {
            "text/html": [
              "\n",
              "  <div id=\"df-9f94e978-32ce-4d5e-bc0e-1a7f8830c421\">\n",
              "    <div class=\"colab-df-container\">\n",
              "      <div>\n",
              "<style scoped>\n",
              "    .dataframe tbody tr th:only-of-type {\n",
              "        vertical-align: middle;\n",
              "    }\n",
              "\n",
              "    .dataframe tbody tr th {\n",
              "        vertical-align: top;\n",
              "    }\n",
              "\n",
              "    .dataframe thead th {\n",
              "        text-align: right;\n",
              "    }\n",
              "</style>\n",
              "<table border=\"1\" class=\"dataframe\">\n",
              "  <thead>\n",
              "    <tr style=\"text-align: right;\">\n",
              "      <th></th>\n",
              "      <th>c/c++</th>\n",
              "      <th>java</th>\n",
              "      <th>python</th>\n",
              "      <th>wt</th>\n",
              "      <th>dbms</th>\n",
              "      <th>se</th>\n",
              "      <th>ds</th>\n",
              "      <th>algo</th>\n",
              "      <th>math</th>\n",
              "      <th>stats</th>\n",
              "      <th>project</th>\n",
              "    </tr>\n",
              "  </thead>\n",
              "  <tbody>\n",
              "    <tr>\n",
              "      <th>0</th>\n",
              "      <td>4</td>\n",
              "      <td>4</td>\n",
              "      <td>4</td>\n",
              "      <td>3</td>\n",
              "      <td>4</td>\n",
              "      <td>4</td>\n",
              "      <td>4</td>\n",
              "      <td>4</td>\n",
              "      <td>4</td>\n",
              "      <td>4</td>\n",
              "      <td>AI</td>\n",
              "    </tr>\n",
              "    <tr>\n",
              "      <th>1</th>\n",
              "      <td>4</td>\n",
              "      <td>3</td>\n",
              "      <td>4</td>\n",
              "      <td>3</td>\n",
              "      <td>5</td>\n",
              "      <td>5</td>\n",
              "      <td>4</td>\n",
              "      <td>3</td>\n",
              "      <td>3</td>\n",
              "      <td>4</td>\n",
              "      <td>AI</td>\n",
              "    </tr>\n",
              "    <tr>\n",
              "      <th>2</th>\n",
              "      <td>3</td>\n",
              "      <td>3</td>\n",
              "      <td>3</td>\n",
              "      <td>3</td>\n",
              "      <td>3</td>\n",
              "      <td>5</td>\n",
              "      <td>5</td>\n",
              "      <td>5</td>\n",
              "      <td>2</td>\n",
              "      <td>4</td>\n",
              "      <td>WA</td>\n",
              "    </tr>\n",
              "    <tr>\n",
              "      <th>3</th>\n",
              "      <td>4</td>\n",
              "      <td>3</td>\n",
              "      <td>5</td>\n",
              "      <td>3</td>\n",
              "      <td>4</td>\n",
              "      <td>5</td>\n",
              "      <td>3</td>\n",
              "      <td>3</td>\n",
              "      <td>4</td>\n",
              "      <td>4</td>\n",
              "      <td>Cloud</td>\n",
              "    </tr>\n",
              "    <tr>\n",
              "      <th>4</th>\n",
              "      <td>5</td>\n",
              "      <td>2</td>\n",
              "      <td>5</td>\n",
              "      <td>3</td>\n",
              "      <td>4</td>\n",
              "      <td>5</td>\n",
              "      <td>5</td>\n",
              "      <td>5</td>\n",
              "      <td>3</td>\n",
              "      <td>3</td>\n",
              "      <td>Others</td>\n",
              "    </tr>\n",
              "  </tbody>\n",
              "</table>\n",
              "</div>\n",
              "      <button class=\"colab-df-convert\" onclick=\"convertToInteractive('df-9f94e978-32ce-4d5e-bc0e-1a7f8830c421')\"\n",
              "              title=\"Convert this dataframe to an interactive table.\"\n",
              "              style=\"display:none;\">\n",
              "        \n",
              "  <svg xmlns=\"http://www.w3.org/2000/svg\" height=\"24px\"viewBox=\"0 0 24 24\"\n",
              "       width=\"24px\">\n",
              "    <path d=\"M0 0h24v24H0V0z\" fill=\"none\"/>\n",
              "    <path d=\"M18.56 5.44l.94 2.06.94-2.06 2.06-.94-2.06-.94-.94-2.06-.94 2.06-2.06.94zm-11 1L8.5 8.5l.94-2.06 2.06-.94-2.06-.94L8.5 2.5l-.94 2.06-2.06.94zm10 10l.94 2.06.94-2.06 2.06-.94-2.06-.94-.94-2.06-.94 2.06-2.06.94z\"/><path d=\"M17.41 7.96l-1.37-1.37c-.4-.4-.92-.59-1.43-.59-.52 0-1.04.2-1.43.59L10.3 9.45l-7.72 7.72c-.78.78-.78 2.05 0 2.83L4 21.41c.39.39.9.59 1.41.59.51 0 1.02-.2 1.41-.59l7.78-7.78 2.81-2.81c.8-.78.8-2.07 0-2.86zM5.41 20L4 18.59l7.72-7.72 1.47 1.35L5.41 20z\"/>\n",
              "  </svg>\n",
              "      </button>\n",
              "      \n",
              "  <style>\n",
              "    .colab-df-container {\n",
              "      display:flex;\n",
              "      flex-wrap:wrap;\n",
              "      gap: 12px;\n",
              "    }\n",
              "\n",
              "    .colab-df-convert {\n",
              "      background-color: #E8F0FE;\n",
              "      border: none;\n",
              "      border-radius: 50%;\n",
              "      cursor: pointer;\n",
              "      display: none;\n",
              "      fill: #1967D2;\n",
              "      height: 32px;\n",
              "      padding: 0 0 0 0;\n",
              "      width: 32px;\n",
              "    }\n",
              "\n",
              "    .colab-df-convert:hover {\n",
              "      background-color: #E2EBFA;\n",
              "      box-shadow: 0px 1px 2px rgba(60, 64, 67, 0.3), 0px 1px 3px 1px rgba(60, 64, 67, 0.15);\n",
              "      fill: #174EA6;\n",
              "    }\n",
              "\n",
              "    [theme=dark] .colab-df-convert {\n",
              "      background-color: #3B4455;\n",
              "      fill: #D2E3FC;\n",
              "    }\n",
              "\n",
              "    [theme=dark] .colab-df-convert:hover {\n",
              "      background-color: #434B5C;\n",
              "      box-shadow: 0px 1px 3px 1px rgba(0, 0, 0, 0.15);\n",
              "      filter: drop-shadow(0px 1px 2px rgba(0, 0, 0, 0.3));\n",
              "      fill: #FFFFFF;\n",
              "    }\n",
              "  </style>\n",
              "\n",
              "      <script>\n",
              "        const buttonEl =\n",
              "          document.querySelector('#df-9f94e978-32ce-4d5e-bc0e-1a7f8830c421 button.colab-df-convert');\n",
              "        buttonEl.style.display =\n",
              "          google.colab.kernel.accessAllowed ? 'block' : 'none';\n",
              "\n",
              "        async function convertToInteractive(key) {\n",
              "          const element = document.querySelector('#df-9f94e978-32ce-4d5e-bc0e-1a7f8830c421');\n",
              "          const dataTable =\n",
              "            await google.colab.kernel.invokeFunction('convertToInteractive',\n",
              "                                                     [key], {});\n",
              "          if (!dataTable) return;\n",
              "\n",
              "          const docLinkHtml = 'Like what you see? Visit the ' +\n",
              "            '<a target=\"_blank\" href=https://colab.research.google.com/notebooks/data_table.ipynb>data table notebook</a>'\n",
              "            + ' to learn more about interactive tables.';\n",
              "          element.innerHTML = '';\n",
              "          dataTable['output_type'] = 'display_data';\n",
              "          await google.colab.output.renderOutput(dataTable, element);\n",
              "          const docLink = document.createElement('div');\n",
              "          docLink.innerHTML = docLinkHtml;\n",
              "          element.appendChild(docLink);\n",
              "        }\n",
              "      </script>\n",
              "    </div>\n",
              "  </div>\n",
              "  "
            ],
            "text/plain": [
              "   c/c++  java  python  wt  dbms  se  ds  algo  math  stats project\n",
              "0      4     4       4   3     4   4   4     4     4      4      AI\n",
              "1      4     3       4   3     5   5   4     3     3      4      AI\n",
              "2      3     3       3   3     3   5   5     5     2      4      WA\n",
              "3      4     3       5   3     4   5   3     3     4      4   Cloud\n",
              "4      5     2       5   3     4   5   5     5     3      3  Others"
            ]
          },
          "metadata": {},
          "execution_count": 4
        }
      ]
    },
    {
      "cell_type": "code",
      "source": [
        "X = df.drop(columns=(['project']))\n",
        "y = df['project']  \n",
        "le = LabelEncoder()\n",
        "y = le.fit_transform(y)\n",
        "X_train,X_test,y_train,y_test = train_test_split(X,y,test_size=0.2,random_state=42)\n",
        "lr = LogisticRegression(multi_class='multinomial', solver='lbfgs')\n",
        "lr.fit(X_train,y_train)\n",
        "print(\"Obtained accuracy of KNN Algorithm : \",accuracy_score(lr.predict(X_test),y_test)*100,\"%\")\n",
        "y_pred = lr.predict(X_test)\n",
        "print(\"R2 Value                           :\",round(r2_score(y_test,y_pred),2))\n",
        "print(\"Log loss                           : \",round(log_loss(y_test, lr.predict_proba(X_test)),2))\n",
        "print(\"Mean Squared Error                 : \",round(mean_squared_error(y_test,y_pred),2))"
      ],
      "metadata": {
        "colab": {
          "base_uri": "https://localhost:8080/"
        },
        "id": "s3CglTeApgVE",
        "outputId": "ff407148-559f-4941-94b8-652792f38d78"
      },
      "execution_count": 5,
      "outputs": [
        {
          "output_type": "stream",
          "name": "stdout",
          "text": [
            "Obtained accuracy of KNN Algorithm :  47.5 %\n",
            "R2 Value                           : -0.66\n",
            "Log loss                           :  1.51\n",
            "Mean Squared Error                 :  10.66\n"
          ]
        }
      ]
    },
    {
      "cell_type": "code",
      "source": [
        "# Confusion Matrix\n",
        "\n",
        "cm = confusion_matrix(y_test,y_pred)\n",
        "cm"
      ],
      "metadata": {
        "colab": {
          "base_uri": "https://localhost:8080/"
        },
        "id": "Nxv7R-idy8PW",
        "outputId": "2795cbff-72ae-4d6b-fcf4-bdc5e27a6144"
      },
      "execution_count": 6,
      "outputs": [
        {
          "output_type": "execute_result",
          "data": {
            "text/plain": [
              "array([[ 8,  0,  0,  0,  1,  0, 13],\n",
              "       [ 1,  0,  0,  0,  0,  0,  2],\n",
              "       [ 0,  0,  0,  0,  1,  0,  3],\n",
              "       [ 0,  0,  0,  0,  0,  0,  1],\n",
              "       [ 0,  1,  0,  0,  3,  0,  4],\n",
              "       [ 4,  0,  2,  0,  1,  0,  5],\n",
              "       [ 3,  0,  0,  0,  0,  0, 27]])"
            ]
          },
          "metadata": {},
          "execution_count": 6
        }
      ]
    },
    {
      "cell_type": "code",
      "source": [
        "# Heatmap\n",
        "\n",
        "cm = confusion_matrix(y_test,y_pred)\n",
        "cm_df = pd.DataFrame(cm, index = ['AT','Cloud','IOT','IP','MA','Others','WA'],\n",
        "                         columns = ['AT','Cloud','IOT','IP','MA','Others','WA'])\n",
        "plt.figure(figsize=(5,5))\n",
        "sns.heatmap(cm_df,annot=True, cmap='PuBu')\n",
        "plt.title('Logistic Regression \\n Accuracy :{0:.2f}'.format(accuracy_score(y_test,y_pred)))\n",
        "plt.ylabel('True Label')\n",
        "plt.xlabel('Predicted Label')\n",
        "plt.show()"
      ],
      "metadata": {
        "colab": {
          "base_uri": "https://localhost:8080/",
          "height": 365
        },
        "id": "8cKHaVVwpt2m",
        "outputId": "732c31d8-191f-4130-c999-a10500b2084d"
      },
      "execution_count": 7,
      "outputs": [
        {
          "output_type": "display_data",
          "data": {
            "image/png": "[encoded data removed]",
            "text/plain": [
              "<Figure size 360x360 with 2 Axes>"
            ]
          },
          "metadata": {
            "needs_background": "light"
          }
        }
      ]
    },
    {
      "cell_type": "code",
      "source": [
        "# Classification Report\n",
        "print(\"Classification Report \\n\",classification_report(y_test, y_pred,target_names = ['AT','Cloud','IOT','IP','MA','Others','WA']))"
      ],
      "metadata": {
        "colab": {
          "base_uri": "https://localhost:8080/"
        },
        "id": "V70vE_jnXLqO",
        "outputId": "efbfcfff-d424-493e-e86b-02d07e17ab3b"
      },
      "execution_count": 8,
      "outputs": [
        {
          "output_type": "stream",
          "name": "stdout",
          "text": [
            "Classification Report \n",
            "               precision    recall  f1-score   support\n",
            "\n",
            "          AT       0.50      0.36      0.42        22\n",
            "       Cloud       0.00      0.00      0.00         3\n",
            "         IOT       0.00      0.00      0.00         4\n",
            "          IP       0.00      0.00      0.00         1\n",
            "          MA       0.50      0.38      0.43         8\n",
            "      Others       0.00      0.00      0.00        12\n",
            "          WA       0.49      0.90      0.64        30\n",
            "\n",
            "    accuracy                           0.48        80\n",
            "   macro avg       0.21      0.23      0.21        80\n",
            "weighted avg       0.37      0.47      0.40        80\n",
            "\n"
          ]
        }
      ]
    },
    {
      "cell_type": "code",
      "source": [
        "#ROC Curve\n",
        "\n",
        "skplt.metrics.plot_roc_curve(y_test, lr.predict_proba(X_test))\n",
        "plt.title(\"Logistic Regression Algorithm\")\n",
        "plt.show()"
      ],
      "metadata": {
        "colab": {
          "base_uri": "https://localhost:8080/",
          "height": 295
        },
        "id": "jjcIC2a0p7u-",
        "outputId": "bdd16807-e41b-4c7a-d659-1b108d9c37a8"
      },
      "execution_count": 9,
      "outputs": [
        {
          "output_type": "display_data",
          "data": {
            "image/png": "[encoded data removed]",
            "text/plain": [
              "<Figure size 432x288 with 1 Axes>"
            ]
          },
          "metadata": {
            "needs_background": "light"
          }
        }
      ]
    },
    {
      "cell_type": "code",
      "source": [
        "#Prediction\n",
        "\n",
        "input1 = [3,4,5,2,4,5,3,4,5,3]\n",
        "input2 = [5,5,5,1,4,5,3,5,5,3]\n",
        "input3 = [4,4,2,1,4,2,2,1,1,1]\n",
        "input4 = [4,4,2,1,4,2,2,1,1,1]\n",
        "input5 = [1,4,2,1,1,2,2,1,1,1]\n",
        "input6 = [5,5,5,3,2,2,2,5,2,5]\n",
        "input7 = [5,5,2,1,2,2,2,1,1,1]\n",
        "inputs = [input1,input2,input3,input4,input5,input6,input7]\n",
        "for input in inputs:\n",
        "    print(\"Input  : \",input)\n",
        "    input = np.reshape(input,(1,10))\n",
        "    cls = lr.predict(input)  \n",
        "    if cls == 0:\n",
        "        print(\"Output :  AI\")\n",
        "    elif cls == 1:\n",
        "        print(\"Output :  Cloud\")\n",
        "    elif cls == 2:\n",
        "        print(\"Output :  IOT\")\n",
        "    elif cls == 3:\n",
        "        print(\"Output :  IP\")\n",
        "    elif cls == 4:\n",
        "        print(\"Output :  MA\")\n",
        "    elif cls==5:\n",
        "        print(\"Output :  Others\")\n",
        "    else:\n",
        "        print(\"Output :  WA\")"
      ],
      "metadata": {
        "id": "p2UND1DIp_n1",
        "colab": {
          "base_uri": "https://localhost:8080/"
        },
        "outputId": "0a842344-bf41-46e7-8216-e01f83a16130"
      },
      "execution_count": 10,
      "outputs": [
        {
          "output_type": "stream",
          "name": "stdout",
          "text": [
            "Input  :  [3, 4, 5, 2, 4, 5, 3, 4, 5, 3]\n",
            "Output :  AI\n",
            "Input  :  [5, 5, 5, 1, 4, 5, 3, 5, 5, 3]\n",
            "Output :  AI\n",
            "Input  :  [4, 4, 2, 1, 4, 2, 2, 1, 1, 1]\n",
            "Output :  AI\n",
            "Input  :  [4, 4, 2, 1, 4, 2, 2, 1, 1, 1]\n",
            "Output :  AI\n",
            "Input  :  [1, 4, 2, 1, 1, 2, 2, 1, 1, 1]\n",
            "Output :  MA\n",
            "Input  :  [5, 5, 5, 3, 2, 2, 2, 5, 2, 5]\n",
            "Output :  Cloud\n",
            "Input  :  [5, 5, 2, 1, 2, 2, 2, 1, 1, 1]\n",
            "Output :  AI\n"
          ]
        }
      ]
    },
    {
      "cell_type": "code",
      "source": [
        "def predict(a):\n",
        "    print(\"Ratings : \",a)\n",
        "    a = np.reshape(a,(1,10))\n",
        "    cls = lr.predict(a)  \n",
        "    if cls == 0:\n",
        "        return \"AI\"\n",
        "    elif cls == 1:\n",
        "        return \"Cloud\"\n",
        "    elif cls == 2:\n",
        "        return \"IOT\"\n",
        "    elif cls == 3:\n",
        "        return \"IP\"\n",
        "    elif cls == 4:\n",
        "        return \"MA\"\n",
        "    elif cls==5:\n",
        "        return \"Others\"\n",
        "    else:\n",
        "        return \"WA\""
      ],
      "metadata": {
        "id": "SaQcso3AqDDg"
      },
      "execution_count": 11,
      "outputs": []
    },
    {
      "cell_type": "code",
      "source": [
        "input = [5,4,3,2,4,3,2,5,4,3]\n",
        "predict(input)"
      ],
      "metadata": {
        "colab": {
          "base_uri": "https://localhost:8080/",
          "height": 53
        },
        "id": "sUMn35OEyDOM",
        "outputId": "ed3ea64e-a076-400c-9bc7-09f50bd51def"
      },
      "execution_count": 12,
      "outputs": [
        {
          "output_type": "stream",
          "name": "stdout",
          "text": [
            "Ratings :  [5, 4, 3, 2, 4, 3, 2, 5, 4, 3]\n"
          ]
        },
        {
          "output_type": "execute_result",
          "data": {
            "application/vnd.google.colaboratory.intrinsic+json": {
              "type": "string"
            },
            "text/plain": [
              "'Cloud'"
            ]
          },
          "metadata": {},
          "execution_count": 12
        }
      ]
    }
  ]
}