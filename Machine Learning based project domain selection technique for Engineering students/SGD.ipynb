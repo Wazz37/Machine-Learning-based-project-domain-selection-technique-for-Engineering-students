{
  "cells": [
    {
      "cell_type": "markdown",
      "metadata": {
        "id": "sWrfeXYH4oUO"
      },
      "source": [
        "#Stochastic Gradient Decent"
      ]
    },
    {
      "cell_type": "code",
      "execution_count": 1,
      "metadata": {
        "colab": {
          "base_uri": "https://localhost:8080/"
        },
        "id": "CzwsnEWm3y4S",
        "outputId": "34e18128-1068-4902-b3fd-d1dbf0ada959"
      },
      "outputs": [
        {
          "name": "stdout",
          "output_type": "stream",
          "text": [
            "Collecting scikit-plot\n",
            "  Downloading scikit_plot-0.3.7-py3-none-any.whl (33 kB)\n",
            "Requirement already satisfied: matplotlib>=1.4.0 in /usr/local/lib/python3.7/dist-packages (from scikit-plot) (3.2.2)\n",
            "Requirement already satisfied: joblib>=0.10 in /usr/local/lib/python3.7/dist-packages (from scikit-plot) (1.1.0)\n",
            "Requirement already satisfied: scikit-learn>=0.18 in /usr/local/lib/python3.7/dist-packages (from scikit-plot) (1.0.2)\n",
            "Requirement already satisfied: scipy>=0.9 in /usr/local/lib/python3.7/dist-packages (from scikit-plot) (1.4.1)\n",
            "Requirement already satisfied: python-dateutil>=2.1 in /usr/local/lib/python3.7/dist-packages (from matplotlib>=1.4.0->scikit-plot) (2.8.2)\n",
            "Requirement already satisfied: pyparsing!=2.0.4,!=2.1.2,!=2.1.6,>=2.0.1 in /usr/local/lib/python3.7/dist-packages (from matplotlib>=1.4.0->scikit-plot) (3.0.7)\n",
            "Requirement already satisfied: kiwisolver>=1.0.1 in /usr/local/lib/python3.7/dist-packages (from matplotlib>=1.4.0->scikit-plot) (1.3.2)\n",
            "Requirement already satisfied: numpy>=1.11 in /usr/local/lib/python3.7/dist-packages (from matplotlib>=1.4.0->scikit-plot) (1.21.5)\n",
            "Requirement already satisfied: cycler>=0.10 in /usr/local/lib/python3.7/dist-packages (from matplotlib>=1.4.0->scikit-plot) (0.11.0)\n",
            "Requirement already satisfied: six>=1.5 in /usr/local/lib/python3.7/dist-packages (from python-dateutil>=2.1->matplotlib>=1.4.0->scikit-plot) (1.15.0)\n",
            "Requirement already satisfied: threadpoolctl>=2.0.0 in /usr/local/lib/python3.7/dist-packages (from scikit-learn>=0.18->scikit-plot) (3.1.0)\n",
            "Installing collected packages: scikit-plot\n",
            "Successfully installed scikit-plot-0.3.7\n"
          ]
        }
      ],
      "source": [
        "#Importing important libraries\n",
        "\n",
        "import pandas as pd\n",
        "import numpy as np\n",
        "import matplotlib.pyplot as plt\n",
        "import seaborn as sns\n",
        "from sklearn.model_selection import train_test_split\n",
        "from sklearn.linear_model import SGDClassifier\n",
        "from sklearn.metrics import accuracy_score, confusion_matrix, r2_score, log_loss\n",
        "import math\n",
        "from sklearn.preprocessing import LabelEncoder\n",
        "!pip install scikit-plot\n",
        "import scikitplot as skplt\n",
        "from sklearn.calibration import CalibratedClassifierCV\n",
        "from sklearn.metrics import mean_squared_error\n",
        "from sklearn.metrics import classification_report\n",
        "import warnings\n",
        "warnings.filterwarnings('ignore')\n",
        "import time"
      ]
    },
    {
      "cell_type": "code",
      "execution_count": 3,
      "metadata": {
        "colab": {
          "base_uri": "https://localhost:8080/",
          "height": 206
        },
        "id": "bFGkFkWR4xJu",
        "outputId": "d8b10b1b-0082-4c20-91cc-d01cdb1d536e"
      },
      "outputs": [
        {
          "data": {
            "text/html": [
              "\n",
              "  <div id=\"df-76b3ca49-ac68-4793-9ae2-0fbd54d35ce6\">\n",
              "    <div class=\"colab-df-container\">\n",
              "      <div>\n",
              "<style scoped>\n",
              "    .dataframe tbody tr th:only-of-type {\n",
              "        vertical-align: middle;\n",
              "    }\n",
              "\n",
              "    .dataframe tbody tr th {\n",
              "        vertical-align: top;\n",
              "    }\n",
              "\n",
              "    .dataframe thead th {\n",
              "        text-align: right;\n",
              "    }\n",
              "</style>\n",
              "<table border=\"1\" class=\"dataframe\">\n",
              "  <thead>\n",
              "    <tr style=\"text-align: right;\">\n",
              "      <th></th>\n",
              "      <th>c/c++</th>\n",
              "      <th>java</th>\n",
              "      <th>python</th>\n",
              "      <th>wt</th>\n",
              "      <th>dbms</th>\n",
              "      <th>se</th>\n",
              "      <th>ds</th>\n",
              "      <th>algo</th>\n",
              "      <th>math</th>\n",
              "      <th>stats</th>\n",
              "      <th>project</th>\n",
              "    </tr>\n",
              "  </thead>\n",
              "  <tbody>\n",
              "    <tr>\n",
              "      <th>0</th>\n",
              "      <td>4</td>\n",
              "      <td>4</td>\n",
              "      <td>4</td>\n",
              "      <td>3</td>\n",
              "      <td>4</td>\n",
              "      <td>4</td>\n",
              "      <td>4</td>\n",
              "      <td>4</td>\n",
              "      <td>4</td>\n",
              "      <td>4</td>\n",
              "      <td>AI</td>\n",
              "    </tr>\n",
              "    <tr>\n",
              "      <th>1</th>\n",
              "      <td>4</td>\n",
              "      <td>3</td>\n",
              "      <td>4</td>\n",
              "      <td>3</td>\n",
              "      <td>5</td>\n",
              "      <td>5</td>\n",
              "      <td>4</td>\n",
              "      <td>3</td>\n",
              "      <td>3</td>\n",
              "      <td>4</td>\n",
              "      <td>AI</td>\n",
              "    </tr>\n",
              "    <tr>\n",
              "      <th>2</th>\n",
              "      <td>3</td>\n",
              "      <td>3</td>\n",
              "      <td>3</td>\n",
              "      <td>3</td>\n",
              "      <td>3</td>\n",
              "      <td>5</td>\n",
              "      <td>5</td>\n",
              "      <td>5</td>\n",
              "      <td>2</td>\n",
              "      <td>4</td>\n",
              "      <td>WA</td>\n",
              "    </tr>\n",
              "    <tr>\n",
              "      <th>3</th>\n",
              "      <td>4</td>\n",
              "      <td>3</td>\n",
              "      <td>5</td>\n",
              "      <td>3</td>\n",
              "      <td>4</td>\n",
              "      <td>5</td>\n",
              "      <td>3</td>\n",
              "      <td>3</td>\n",
              "      <td>4</td>\n",
              "      <td>4</td>\n",
              "      <td>Cloud</td>\n",
              "    </tr>\n",
              "    <tr>\n",
              "      <th>4</th>\n",
              "      <td>5</td>\n",
              "      <td>2</td>\n",
              "      <td>5</td>\n",
              "      <td>3</td>\n",
              "      <td>4</td>\n",
              "      <td>5</td>\n",
              "      <td>5</td>\n",
              "      <td>5</td>\n",
              "      <td>3</td>\n",
              "      <td>3</td>\n",
              "      <td>Others</td>\n",
              "    </tr>\n",
              "  </tbody>\n",
              "</table>\n",
              "</div>\n",
              "      <button class=\"colab-df-convert\" onclick=\"convertToInteractive('df-76b3ca49-ac68-4793-9ae2-0fbd54d35ce6')\"\n",
              "              title=\"Convert this dataframe to an interactive table.\"\n",
              "              style=\"display:none;\">\n",
              "        \n",
              "  <svg xmlns=\"http://www.w3.org/2000/svg\" height=\"24px\"viewBox=\"0 0 24 24\"\n",
              "       width=\"24px\">\n",
              "    <path d=\"M0 0h24v24H0V0z\" fill=\"none\"/>\n",
              "    <path d=\"M18.56 5.44l.94 2.06.94-2.06 2.06-.94-2.06-.94-.94-2.06-.94 2.06-2.06.94zm-11 1L8.5 8.5l.94-2.06 2.06-.94-2.06-.94L8.5 2.5l-.94 2.06-2.06.94zm10 10l.94 2.06.94-2.06 2.06-.94-2.06-.94-.94-2.06-.94 2.06-2.06.94z\"/><path d=\"M17.41 7.96l-1.37-1.37c-.4-.4-.92-.59-1.43-.59-.52 0-1.04.2-1.43.59L10.3 9.45l-7.72 7.72c-.78.78-.78 2.05 0 2.83L4 21.41c.39.39.9.59 1.41.59.51 0 1.02-.2 1.41-.59l7.78-7.78 2.81-2.81c.8-.78.8-2.07 0-2.86zM5.41 20L4 18.59l7.72-7.72 1.47 1.35L5.41 20z\"/>\n",
              "  </svg>\n",
              "      </button>\n",
              "      \n",
              "  <style>\n",
              "    .colab-df-container {\n",
              "      display:flex;\n",
              "      flex-wrap:wrap;\n",
              "      gap: 12px;\n",
              "    }\n",
              "\n",
              "    .colab-df-convert {\n",
              "      background-color: #E8F0FE;\n",
              "      border: none;\n",
              "      border-radius: 50%;\n",
              "      cursor: pointer;\n",
              "      display: none;\n",
              "      fill: #1967D2;\n",
              "      height: 32px;\n",
              "      padding: 0 0 0 0;\n",
              "      width: 32px;\n",
              "    }\n",
              "\n",
              "    .colab-df-convert:hover {\n",
              "      background-color: #E2EBFA;\n",
              "      box-shadow: 0px 1px 2px rgba(60, 64, 67, 0.3), 0px 1px 3px 1px rgba(60, 64, 67, 0.15);\n",
              "      fill: #174EA6;\n",
              "    }\n",
              "\n",
              "    [theme=dark] .colab-df-convert {\n",
              "      background-color: #3B4455;\n",
              "      fill: #D2E3FC;\n",
              "    }\n",
              "\n",
              "    [theme=dark] .colab-df-convert:hover {\n",
              "      background-color: #434B5C;\n",
              "      box-shadow: 0px 1px 3px 1px rgba(0, 0, 0, 0.15);\n",
              "      filter: drop-shadow(0px 1px 2px rgba(0, 0, 0, 0.3));\n",
              "      fill: #FFFFFF;\n",
              "    }\n",
              "  </style>\n",
              "\n",
              "      <script>\n",
              "        const buttonEl =\n",
              "          document.querySelector('#df-76b3ca49-ac68-4793-9ae2-0fbd54d35ce6 button.colab-df-convert');\n",
              "        buttonEl.style.display =\n",
              "          google.colab.kernel.accessAllowed ? 'block' : 'none';\n",
              "\n",
              "        async function convertToInteractive(key) {\n",
              "          const element = document.querySelector('#df-76b3ca49-ac68-4793-9ae2-0fbd54d35ce6');\n",
              "          const dataTable =\n",
              "            await google.colab.kernel.invokeFunction('convertToInteractive',\n",
              "                                                     [key], {});\n",
              "          if (!dataTable) return;\n",
              "\n",
              "          const docLinkHtml = 'Like what you see? Visit the ' +\n",
              "            '<a target=\"_blank\" href=https://colab.research.google.com/notebooks/data_table.ipynb>data table notebook</a>'\n",
              "            + ' to learn more about interactive tables.';\n",
              "          element.innerHTML = '';\n",
              "          dataTable['output_type'] = 'display_data';\n",
              "          await google.colab.output.renderOutput(dataTable, element);\n",
              "          const docLink = document.createElement('div');\n",
              "          docLink.innerHTML = docLinkHtml;\n",
              "          element.appendChild(docLink);\n",
              "        }\n",
              "      </script>\n",
              "    </div>\n",
              "  </div>\n",
              "  "
            ],
            "text/plain": [
              "   c/c++  java  python  wt  dbms  se  ds  algo  math  stats project\n",
              "0      4     4       4   3     4   4   4     4     4      4      AI\n",
              "1      4     3       4   3     5   5   4     3     3      4      AI\n",
              "2      3     3       3   3     3   5   5     5     2      4      WA\n",
              "3      4     3       5   3     4   5   3     3     4      4   Cloud\n",
              "4      5     2       5   3     4   5   5     5     3      3  Others"
            ]
          },
          "execution_count": 3,
          "metadata": {},
          "output_type": "execute_result"
        }
      ],
      "source": [
        "df = pd.read_csv('Project.csv')\n",
        "df.head()"
      ]
    },
    {
      "cell_type": "code",
      "execution_count": 7,
      "metadata": {
        "colab": {
          "base_uri": "https://localhost:8080/"
        },
        "id": "gdGubwMW42bD",
        "outputId": "afa69f8e-006e-4692-c161-9eef98afad8d"
      },
      "outputs": [
        {
          "name": "stdout",
          "output_type": "stream",
          "text": [
            "Obtained accuracy of KNN Algorithm :  42.5 %\n",
            "R2 Value                           : -0.8\n",
            "Log loss                           :  1.53\n",
            "Mean Squared Error                 :  11.55\n"
          ]
        }
      ],
      "source": [
        "X = df.drop(columns=(['project']))\n",
        "y = df['project']  \n",
        "le = LabelEncoder()\n",
        "y = le.fit_transform(y)\n",
        "X_train,X_test,y_train,y_test = train_test_split(X,y,test_size=0.2,random_state=42)\n",
        "sgd  = SGDClassifier(loss='hinge')\n",
        "clf=sgd.fit(X_train,y_train)\n",
        "calibrator = CalibratedClassifierCV(clf, cv='prefit')\n",
        "sgd=calibrator.fit(X_train, y_train)\n",
        "print(\"Obtained accuracy of KNN Algorithm : \",accuracy_score(sgd.predict(X_test),y_test)*100,\"%\")\n",
        "y_pred = sgd.predict(X_test)\n",
        "print(\"R2 Value                           :\",round(r2_score(y_test,y_pred),2))\n",
        "print(\"Log loss                           : \",round(log_loss(y_test, sgd.predict_proba(X_test)),2))\n",
        "print(\"Mean Squared Error                 : \",round(mean_squared_error(y_test,y_pred),2))"
      ]
    },
    {
      "cell_type": "code",
      "execution_count": 8,
      "metadata": {
        "colab": {
          "base_uri": "https://localhost:8080/"
        },
        "id": "TCb_Qwyh5D5u",
        "outputId": "8de6cf5b-1468-432e-ecca-be4a85ecfc3d"
      },
      "outputs": [
        {
          "data": {
            "text/plain": [
              "array([[ 6,  0,  0,  0,  0,  0, 16],\n",
              "       [ 1,  0,  0,  0,  0,  0,  2],\n",
              "       [ 0,  0,  0,  0,  1,  0,  3],\n",
              "       [ 0,  0,  0,  0,  0,  0,  1],\n",
              "       [ 0,  0,  0,  0,  0,  0,  8],\n",
              "       [ 5,  0,  0,  0,  1,  0,  6],\n",
              "       [ 2,  0,  0,  0,  0,  0, 28]])"
            ]
          },
          "execution_count": 8,
          "metadata": {},
          "output_type": "execute_result"
        }
      ],
      "source": [
        "# Confusion Matrix\n",
        "\n",
        "cm = confusion_matrix(y_test,y_pred)\n",
        "cm"
      ]
    },
    {
      "cell_type": "code",
      "execution_count": 9,
      "metadata": {
        "colab": {
          "base_uri": "https://localhost:8080/",
          "height": 365
        },
        "id": "Oz8HCKot4-_R",
        "outputId": "288e892c-62d1-4a07-fa25-5518adca9b94"
      },
      "outputs": [
        {
          "data": {
            "image/png": "[encoded data removed]",
            "text/plain": [
              "<Figure size 360x360 with 2 Axes>"
            ]
          },
          "metadata": {
            "needs_background": "light"
          },
          "output_type": "display_data"
        }
      ],
      "source": [
        "# Heatmap\n",
        "\n",
        "cm = confusion_matrix(y_test,y_pred)\n",
        "cm_df = pd.DataFrame(cm, index = ['AT','Cloud','IOT','IP','MA','Others','WA'],\n",
        "                         columns = ['AT','Cloud','IOT','IP','MA','Others','WA'])\n",
        "plt.figure(figsize=(5,5))\n",
        "sns.heatmap(cm_df,annot=True, cmap='PuBu')\n",
        "plt.title('SGD Algorithm \\n Accuracy :{0:.2f}'.format(accuracy_score(y_test,y_pred)))\n",
        "plt.ylabel('True Label')\n",
        "plt.xlabel('Predicted Label')\n",
        "plt.show()"
      ]
    },
    {
      "cell_type": "code",
      "execution_count": 10,
      "metadata": {
        "colab": {
          "base_uri": "https://localhost:8080/"
        },
        "id": "KSPRVEJSl9dH",
        "outputId": "452ac1d9-f600-4a7b-b11e-9f2270f541da"
      },
      "outputs": [
        {
          "name": "stdout",
          "output_type": "stream",
          "text": [
            "Classification Report \n",
            "               precision    recall  f1-score   support\n",
            "\n",
            "          AT       0.43      0.27      0.33        22\n",
            "       Cloud       0.00      0.00      0.00         3\n",
            "         IOT       0.00      0.00      0.00         4\n",
            "          IP       0.00      0.00      0.00         1\n",
            "          MA       0.00      0.00      0.00         8\n",
            "      Others       0.00      0.00      0.00        12\n",
            "          WA       0.44      0.93      0.60        30\n",
            "\n",
            "    accuracy                           0.42        80\n",
            "   macro avg       0.12      0.17      0.13        80\n",
            "weighted avg       0.28      0.42      0.32        80\n",
            "\n"
          ]
        }
      ],
      "source": [
        "# Classification Report\n",
        "print(\"Classification Report \\n\",classification_report(y_test, y_pred,target_names = ['AT','Cloud','IOT','IP','MA','Others','WA']))"
      ]
    },
    {
      "cell_type": "code",
      "execution_count": null,
      "metadata": {
        "colab": {
          "base_uri": "https://localhost:8080/",
          "height": 330
        },
        "id": "eH9GYe8y5Bp5",
        "outputId": "acf175db-50d3-4b3b-dc43-2018d9f52d65"
      },
      "outputs": [
        {
          "name": "stderr",
          "output_type": "stream",
          "text": [
            "/usr/local/lib/python3.7/dist-packages/sklearn/utils/deprecation.py:87: FutureWarning: Function plot_roc_curve is deprecated; This will be removed in v0.5.0. Please use scikitplot.metrics.plot_roc instead.\n",
            "  warnings.warn(msg, category=FutureWarning)\n"
          ]
        },
        {
          "data": {
            "image/png": "[encoded data removed]",
            "text/plain": [
              "<Figure size 432x288 with 1 Axes>"
            ]
          },
          "metadata": {
            "needs_background": "light"
          },
          "output_type": "display_data"
        }
      ],
      "source": [
        "# ROC Curve\n",
        "\n",
        "skplt.metrics.plot_roc_curve(y_test, sgd.predict_proba(X_test))\n",
        "plt.title(\"SGD Algorithm\")\n",
        "plt.show()"
      ]
    },
    {
      "cell_type": "code",
      "execution_count": null,
      "metadata": {
        "colab": {
          "base_uri": "https://localhost:8080/"
        },
        "id": "rFrxCD8Z5Ia-",
        "outputId": "894f0603-d396-451f-a251-dc1959188528"
      },
      "outputs": [
        {
          "name": "stdout",
          "output_type": "stream",
          "text": [
            "Input  :  [3, 4, 5, 2, 4, 5, 3, 4, 5, 3]\n",
            "Output :  AI\n",
            "Input  :  [5, 5, 5, 1, 4, 5, 3, 5, 5, 3]\n",
            "Output :  Cloud\n",
            "Input  :  [4, 4, 2, 1, 4, 2, 2, 1, 1, 1]\n",
            "Output :  AI\n",
            "Input  :  [4, 4, 2, 1, 4, 2, 2, 1, 1, 1]\n",
            "Output :  AI\n",
            "Input  :  [1, 4, 2, 1, 1, 2, 2, 1, 1, 1]\n",
            "Output :  MA\n",
            "Input  :  [5, 5, 5, 3, 2, 2, 2, 5, 2, 5]\n",
            "Output :  Cloud\n",
            "Input  :  [5, 5, 2, 1, 2, 2, 2, 1, 1, 1]\n",
            "Output :  AI\n"
          ]
        },
        {
          "name": "stderr",
          "output_type": "stream",
          "text": [
            "/usr/local/lib/python3.7/dist-packages/sklearn/base.py:451: UserWarning: X does not have valid feature names, but SGDClassifier was fitted with feature names\n",
            "  \"X does not have valid feature names, but\"\n",
            "/usr/local/lib/python3.7/dist-packages/sklearn/base.py:451: UserWarning: X does not have valid feature names, but SGDClassifier was fitted with feature names\n",
            "  \"X does not have valid feature names, but\"\n",
            "/usr/local/lib/python3.7/dist-packages/sklearn/base.py:451: UserWarning: X does not have valid feature names, but SGDClassifier was fitted with feature names\n",
            "  \"X does not have valid feature names, but\"\n",
            "/usr/local/lib/python3.7/dist-packages/sklearn/base.py:451: UserWarning: X does not have valid feature names, but SGDClassifier was fitted with feature names\n",
            "  \"X does not have valid feature names, but\"\n",
            "/usr/local/lib/python3.7/dist-packages/sklearn/base.py:451: UserWarning: X does not have valid feature names, but SGDClassifier was fitted with feature names\n",
            "  \"X does not have valid feature names, but\"\n",
            "/usr/local/lib/python3.7/dist-packages/sklearn/base.py:451: UserWarning: X does not have valid feature names, but SGDClassifier was fitted with feature names\n",
            "  \"X does not have valid feature names, but\"\n",
            "/usr/local/lib/python3.7/dist-packages/sklearn/base.py:451: UserWarning: X does not have valid feature names, but SGDClassifier was fitted with feature names\n",
            "  \"X does not have valid feature names, but\"\n"
          ]
        }
      ],
      "source": [
        "#Prediction\n",
        "\n",
        "input1 = [3,4,5,2,4,5,3,4,5,3]\n",
        "input2 = [5,5,5,1,4,5,3,5,5,3]\n",
        "input3 = [4,4,2,1,4,2,2,1,1,1]\n",
        "input4 = [4,4,2,1,4,2,2,1,1,1]\n",
        "input5 = [1,4,2,1,1,2,2,1,1,1]\n",
        "input6 = [5,5,5,3,2,2,2,5,2,5]\n",
        "input7 = [5,5,2,1,2,2,2,1,1,1]\n",
        "inputs = [input1,input2,input3,input4,input5,input6,input7]\n",
        "for input in inputs:\n",
        "    print(\"Input  : \",input)\n",
        "    input = np.reshape(input,(1,10))\n",
        "    cls = sgd.predict(input)  \n",
        "    if cls == 0:\n",
        "        print(\"Output :  AI\")\n",
        "    elif cls == 1:\n",
        "        print(\"Output :  Cloud\")\n",
        "    elif cls == 2:\n",
        "        print(\"Output :  IOT\")\n",
        "    elif cls == 3:\n",
        "        print(\"Output :  IP\")\n",
        "    elif cls == 4:\n",
        "        print(\"Output :  MA\")\n",
        "    elif cls==5:\n",
        "        print(\"Output :  Others\")\n",
        "    else:\n",
        "        print(\"Output :  WA\")"
      ]
    },
    {
      "cell_type": "code",
      "execution_count": null,
      "metadata": {
        "id": "EOvolWgt5LDb"
      },
      "outputs": [],
      "source": [
        "def predict(a):\n",
        "    print(\"Ratings : \",a)\n",
        "    a = np.reshape(a,(1,10))\n",
        "    cls = sgd.predict(a) \n",
        "    cls = np.argmax(cls, axis=-1).astype('int') \n",
        "    if cls == 0:\n",
        "        return \"AI\"\n",
        "    elif cls == 1:\n",
        "        return \"Cloud\"\n",
        "    elif cls == 2:\n",
        "        return \"IOT\"\n",
        "    elif cls == 3:\n",
        "        return \"IP\"\n",
        "    elif cls == 4:\n",
        "        return \"MA\"\n",
        "    elif cls==5:\n",
        "        return \"Others\"\n",
        "    else:\n",
        "        return \"WA\""
      ]
    },
    {
      "cell_type": "code",
      "execution_count": null,
      "metadata": {
        "colab": {
          "base_uri": "https://localhost:8080/",
          "height": 87
        },
        "id": "VNk40E1K5NRn",
        "outputId": "e29f06fa-eb40-4c7e-b3b9-f760147f4b32"
      },
      "outputs": [
        {
          "name": "stdout",
          "output_type": "stream",
          "text": [
            "Ratings :  [5, 4, 3, 2, 4, 3, 2, 5, 4, 3]\n"
          ]
        },
        {
          "name": "stderr",
          "output_type": "stream",
          "text": [
            "/usr/local/lib/python3.7/dist-packages/sklearn/base.py:451: UserWarning: X does not have valid feature names, but SGDClassifier was fitted with feature names\n",
            "  \"X does not have valid feature names, but\"\n"
          ]
        },
        {
          "data": {
            "application/vnd.google.colaboratory.intrinsic+json": {
              "type": "string"
            },
            "text/plain": [
              "'AI'"
            ]
          },
          "execution_count": 14,
          "metadata": {},
          "output_type": "execute_result"
        }
      ],
      "source": [
        "input = [5,4,3,2,4,3,2,5,4,3]\n",
        "predict(input)"
      ]
    },
    {
      "cell_type": "code",
      "execution_count": null,
      "metadata": {
        "id": "uC8JQsuD5PBA"
      },
      "outputs": [],
      "source": []
    }
  ],
  "metadata": {
    "colab": {
      "name": "SGD.ipynb",
      "provenance": []
    },
    "kernelspec": {
      "display_name": "Python 3",
      "name": "python3"
    },
    "language_info": {
      "name": "python",
      "version": "3.8.8"
    }
  },
  "nbformat": 4,
  "nbformat_minor": 0
}
