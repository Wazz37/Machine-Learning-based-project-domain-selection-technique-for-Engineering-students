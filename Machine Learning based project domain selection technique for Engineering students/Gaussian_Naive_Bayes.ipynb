{
  "cells": [
    {
      "cell_type": "markdown",
      "metadata": {
        "id": "f1ipBqxC5pnB"
      },
      "source": [
        "# Gaussian Naive Bayes"
      ]
    },
    {
      "cell_type": "code",
      "execution_count": 25,
      "metadata": {
        "colab": {
          "base_uri": "https://localhost:8080/"
        },
        "id": "-kUni50v2C-p",
        "outputId": "aa9d3a34-0880-47fa-fe30-45f93b3bd548"
      },
      "outputs": [
        {
          "name": "stdout",
          "output_type": "stream",
          "text": [
            "Requirement already satisfied: scikit-plot in c:\\users\\wazid\\anaconda3\\lib\\site-packages (0.3.7)\n",
            "Requirement already satisfied: scikit-learn>=0.18 in c:\\users\\wazid\\anaconda3\\lib\\site-packages (from scikit-plot) (0.24.1)\n",
            "Requirement already satisfied: joblib>=0.10 in c:\\users\\wazid\\anaconda3\\lib\\site-packages (from scikit-plot) (1.0.1)\n",
            "Requirement already satisfied: scipy>=0.9 in c:\\users\\wazid\\anaconda3\\lib\\site-packages (from scikit-plot) (1.6.2)\n",
            "Requirement already satisfied: matplotlib>=1.4.0 in c:\\users\\wazid\\anaconda3\\lib\\site-packages (from scikit-plot) (3.5.0)\n",
            "Requirement already satisfied: pillow>=6.2.0 in c:\\users\\wazid\\anaconda3\\lib\\site-packages (from matplotlib>=1.4.0->scikit-plot) (8.2.0)\n",
            "Requirement already satisfied: cycler>=0.10 in c:\\users\\wazid\\anaconda3\\lib\\site-packages (from matplotlib>=1.4.0->scikit-plot) (0.10.0)\n",
            "Requirement already satisfied: fonttools>=4.22.0 in c:\\users\\wazid\\anaconda3\\lib\\site-packages (from matplotlib>=1.4.0->scikit-plot) (4.25.0)\n",
            "Requirement already satisfied: python-dateutil>=2.7 in c:\\users\\wazid\\anaconda3\\lib\\site-packages (from matplotlib>=1.4.0->scikit-plot) (2.8.1)\n",
            "Requirement already satisfied: kiwisolver>=1.0.1 in c:\\users\\wazid\\anaconda3\\lib\\site-packages (from matplotlib>=1.4.0->scikit-plot) (1.3.1)\n",
            "Requirement already satisfied: pyparsing>=2.2.1 in c:\\users\\wazid\\anaconda3\\lib\\site-packages (from matplotlib>=1.4.0->scikit-plot) (2.4.7)\n",
            "Requirement already satisfied: numpy>=1.17 in c:\\users\\wazid\\anaconda3\\lib\\site-packages (from matplotlib>=1.4.0->scikit-plot) (1.20.1)\n",
            "Requirement already satisfied: packaging>=20.0 in c:\\users\\wazid\\anaconda3\\lib\\site-packages (from matplotlib>=1.4.0->scikit-plot) (20.9)\n",
            "Requirement already satisfied: six in c:\\users\\wazid\\anaconda3\\lib\\site-packages (from cycler>=0.10->matplotlib>=1.4.0->scikit-plot) (1.16.0)"
          ]
        },
        {
          "name": "stderr",
          "output_type": "stream",
          "text": [
            "WARNING: Ignoring invalid distribution -atplotlib (c:\\users\\wazid\\anaconda3\\lib\\site-packages)\n",
            "WARNING: Ignoring invalid distribution -atplotlib (c:\\users\\wazid\\anaconda3\\lib\\site-packages)\n",
            "WARNING: Ignoring invalid distribution -atplotlib (c:\\users\\wazid\\anaconda3\\lib\\site-packages)\n",
            "WARNING: Ignoring invalid distribution -atplotlib (c:\\users\\wazid\\anaconda3\\lib\\site-packages)\n",
            "WARNING: Ignoring invalid distribution -atplotlib (c:\\users\\wazid\\anaconda3\\lib\\site-packages)\n",
            "WARNING: Ignoring invalid distribution -atplotlib (c:\\users\\wazid\\anaconda3\\lib\\site-packages)\n",
            "WARNING: You are using pip version 21.3.1; however, version 22.0.3 is available.\n",
            "You should consider upgrading via the 'C:\\Users\\wazid\\anaconda3\\python.exe -m pip install --upgrade pip' command.\n"
          ]
        },
        {
          "name": "stdout",
          "output_type": "stream",
          "text": [
            "\n",
            "Requirement already satisfied: threadpoolctl>=2.0.0 in c:\\users\\wazid\\anaconda3\\lib\\site-packages (from scikit-learn>=0.18->scikit-plot) (2.1.0)\n"
          ]
        }
      ],
      "source": [
        "#Importing important libraries\n",
        "\n",
        "import pandas as pd\n",
        "import numpy as np\n",
        "import matplotlib.pyplot as plt\n",
        "import seaborn as sns\n",
        "from sklearn.model_selection import train_test_split\n",
        "from sklearn.naive_bayes import GaussianNB\n",
        "from sklearn.metrics import accuracy_score, confusion_matrix, r2_score, log_loss\n",
        "import math\n",
        "from sklearn.preprocessing import LabelEncoder\n",
        "!pip install scikit-plot\n",
        "import scikitplot as skplt\n",
        "from sklearn.metrics import mean_squared_error\n",
        "from sklearn.metrics import classification_report\n",
        "import warnings\n",
        "warnings.filterwarnings('ignore')\n",
        "import time"
      ]
    },
    {
      "cell_type": "code",
      "execution_count": 26,
      "metadata": {
        "colab": {
          "base_uri": "https://localhost:8080/",
          "height": 206
        },
        "id": "wK99HRRx2J6w",
        "outputId": "b6b17993-0706-492b-976f-899e6f4dc42a"
      },
      "outputs": [
        {
          "data": {
            "text/html": [
              "<div>\n",
              "<style scoped>\n",
              "    .dataframe tbody tr th:only-of-type {\n",
              "        vertical-align: middle;\n",
              "    }\n",
              "\n",
              "    .dataframe tbody tr th {\n",
              "        vertical-align: top;\n",
              "    }\n",
              "\n",
              "    .dataframe thead th {\n",
              "        text-align: right;\n",
              "    }\n",
              "</style>\n",
              "<table border=\"1\" class=\"dataframe\">\n",
              "  <thead>\n",
              "    <tr style=\"text-align: right;\">\n",
              "      <th></th>\n",
              "      <th>c/c++</th>\n",
              "      <th>java</th>\n",
              "      <th>python</th>\n",
              "      <th>wt</th>\n",
              "      <th>dbms</th>\n",
              "      <th>se</th>\n",
              "      <th>ds</th>\n",
              "      <th>algo</th>\n",
              "      <th>math</th>\n",
              "      <th>stats</th>\n",
              "      <th>project</th>\n",
              "    </tr>\n",
              "  </thead>\n",
              "  <tbody>\n",
              "    <tr>\n",
              "      <th>0</th>\n",
              "      <td>4</td>\n",
              "      <td>4</td>\n",
              "      <td>4</td>\n",
              "      <td>3</td>\n",
              "      <td>4</td>\n",
              "      <td>4</td>\n",
              "      <td>4</td>\n",
              "      <td>4</td>\n",
              "      <td>4</td>\n",
              "      <td>4</td>\n",
              "      <td>AI</td>\n",
              "    </tr>\n",
              "    <tr>\n",
              "      <th>1</th>\n",
              "      <td>4</td>\n",
              "      <td>3</td>\n",
              "      <td>4</td>\n",
              "      <td>3</td>\n",
              "      <td>5</td>\n",
              "      <td>5</td>\n",
              "      <td>4</td>\n",
              "      <td>3</td>\n",
              "      <td>3</td>\n",
              "      <td>4</td>\n",
              "      <td>AI</td>\n",
              "    </tr>\n",
              "    <tr>\n",
              "      <th>2</th>\n",
              "      <td>3</td>\n",
              "      <td>3</td>\n",
              "      <td>3</td>\n",
              "      <td>3</td>\n",
              "      <td>3</td>\n",
              "      <td>5</td>\n",
              "      <td>5</td>\n",
              "      <td>5</td>\n",
              "      <td>2</td>\n",
              "      <td>4</td>\n",
              "      <td>WA</td>\n",
              "    </tr>\n",
              "    <tr>\n",
              "      <th>3</th>\n",
              "      <td>4</td>\n",
              "      <td>3</td>\n",
              "      <td>5</td>\n",
              "      <td>3</td>\n",
              "      <td>4</td>\n",
              "      <td>5</td>\n",
              "      <td>3</td>\n",
              "      <td>3</td>\n",
              "      <td>4</td>\n",
              "      <td>4</td>\n",
              "      <td>Cloud</td>\n",
              "    </tr>\n",
              "    <tr>\n",
              "      <th>4</th>\n",
              "      <td>5</td>\n",
              "      <td>2</td>\n",
              "      <td>5</td>\n",
              "      <td>3</td>\n",
              "      <td>4</td>\n",
              "      <td>5</td>\n",
              "      <td>5</td>\n",
              "      <td>5</td>\n",
              "      <td>3</td>\n",
              "      <td>3</td>\n",
              "      <td>Others</td>\n",
              "    </tr>\n",
              "  </tbody>\n",
              "</table>\n",
              "</div>"
            ],
            "text/plain": [
              "   c/c++  java  python  wt  dbms  se  ds  algo  math  stats project\n",
              "0      4     4       4   3     4   4   4     4     4      4      AI\n",
              "1      4     3       4   3     5   5   4     3     3      4      AI\n",
              "2      3     3       3   3     3   5   5     5     2      4      WA\n",
              "3      4     3       5   3     4   5   3     3     4      4   Cloud\n",
              "4      5     2       5   3     4   5   5     5     3      3  Others"
            ]
          },
          "execution_count": 26,
          "metadata": {},
          "output_type": "execute_result"
        }
      ],
      "source": [
        "df = pd.read_csv('Project.csv')\n",
        "df.head()"
      ]
    },
    {
      "cell_type": "code",
      "execution_count": 27,
      "metadata": {
        "colab": {
          "base_uri": "https://localhost:8080/"
        },
        "id": "2H2jiTD62KWJ",
        "outputId": "238c709a-4c70-408a-8733-0ec69ef8b728"
      },
      "outputs": [
        {
          "name": "stdout",
          "output_type": "stream",
          "text": [
            "Accuracy : 0.31  at random_state :  1\n",
            "Accuracy : 0.35  at random_state :  2\n",
            "Accuracy : 0.38  at random_state :  5\n",
            "Accuracy : 0.4  at random_state :  13\n",
            "Accuracy : 0.44  at random_state :  24\n",
            "Accuracy : 0.45  at random_state :  262\n",
            "Accuracy : 0.48  at random_state :  289\n",
            "Accuracy : 0.51  at random_state :  654\n"
          ]
        }
      ],
      "source": [
        "X = df.drop(columns=(['project']))\n",
        "y = df['project']  \n",
        "le = LabelEncoder()\n",
        "y = le.fit_transform(y)\n",
        "temp = 0\n",
        "for i in range(1,1000):\n",
        "    X_train,X_test,y_train,y_test = train_test_split(X,y,test_size=0.2,random_state=i)\n",
        "    gnb = GaussianNB()\n",
        "    gnb.fit(X_train,y_train)\n",
        "    acc = round(accuracy_score(gnb.predict(X_test),y_test),2)\n",
        "    if acc>temp:\n",
        "        temp = acc\n",
        "        ac = temp\n",
        "        print(\"Accuracy :\",temp,\" at random_state : \",i)"
      ]
    },
    {
      "cell_type": "code",
      "execution_count": 28,
      "metadata": {
        "colab": {
          "base_uri": "https://localhost:8080/"
        },
        "id": "FuR5KRoF2Mf2",
        "outputId": "d0e1eb0b-5fca-47d5-d9c4-619501a972c1"
      },
      "outputs": [
        {
          "name": "stdout",
          "output_type": "stream",
          "text": [
            "Obtained accuracy of KNN Algorithm :  51.24999999999999 %\n",
            "R2 Value                           : -0.31\n",
            "Log loss                           :  1.65\n",
            "Mean Squared Error                 :  8.44\n"
          ]
        }
      ],
      "source": [
        "X_train,X_test,y_train,y_test = train_test_split(X,y,test_size=0.2,random_state=654)\n",
        "gnb = GaussianNB()\n",
        "gnb.fit(X_train,y_train)\n",
        "print(\"Obtained accuracy of KNN Algorithm : \",accuracy_score(gnb.predict(X_test),y_test)*100,\"%\")\n",
        "y_pred = gnb.predict(X_test)\n",
        "print(\"R2 Value                           :\",round(r2_score(y_test,y_pred),2))\n",
        "print(\"Log loss                           : \",round(log_loss(y_test, gnb.predict_proba(X_test)),2))\n",
        "print(\"Mean Squared Error                 : \",round(mean_squared_error(y_test,y_pred),2))"
      ]
    },
    {
      "cell_type": "code",
      "execution_count": 29,
      "metadata": {
        "colab": {
          "base_uri": "https://localhost:8080/"
        },
        "id": "ps-1_6ut2NiF",
        "outputId": "3bfd72cb-1570-43c3-d5de-c68dfd9260bb"
      },
      "outputs": [
        {
          "data": {
            "text/plain": [
              "array([[ 9,  0,  2,  0,  0,  1,  8],\n",
              "       [ 1,  1,  1,  0,  0,  0,  3],\n",
              "       [ 0,  0,  0,  0,  0,  1,  2],\n",
              "       [ 1,  1,  0,  0,  0,  0,  0],\n",
              "       [ 3,  0,  0,  0,  2,  1,  4],\n",
              "       [ 2,  1,  0,  0,  0,  1,  1],\n",
              "       [ 2,  0,  1,  0,  0,  3, 28]], dtype=int64)"
            ]
          },
          "execution_count": 29,
          "metadata": {},
          "output_type": "execute_result"
        }
      ],
      "source": [
        "# Confusion Matrix\n",
        "\n",
        "cm = confusion_matrix(y_test,y_pred)\n",
        "cm"
      ]
    },
    {
      "cell_type": "code",
      "execution_count": 30,
      "metadata": {
        "colab": {
          "base_uri": "https://localhost:8080/",
          "height": 365
        },
        "id": "YwtfOljk2O6z",
        "outputId": "8c7a45d9-84e9-49db-f58b-e54ce6ec8050"
      },
      "outputs": [
        {
          "data": {
            "image/png": "[encoded data removed]",
            "text/plain": [
              "<Figure size 360x360 with 2 Axes>"
            ]
          },
          "metadata": {
            "needs_background": "light"
          },
          "output_type": "display_data"
        }
      ],
      "source": [
        "#Heatmap\n",
        "\n",
        "cm = confusion_matrix(y_test,y_pred)\n",
        "cm_df = pd.DataFrame(cm, index = ['AT','Cloud','IOT','IP','MA','Others','WA'],\n",
        "                         columns = ['AT','Cloud','IOT','IP','MA','Others','WA'])\n",
        "plt.figure(figsize=(5,5))\n",
        "sns.heatmap(cm_df,annot=True, cmap='PuBu')\n",
        "plt.title('Gaussian Naive Bayes Algorithm \\n Accuracy :{0:.2f}'.format(accuracy_score(y_test,y_pred)))\n",
        "plt.ylabel('True Label')\n",
        "plt.xlabel('Predicted Label')\n",
        "plt.show()"
      ]
    },
    {
      "cell_type": "code",
      "execution_count": 31,
      "metadata": {
        "colab": {
          "base_uri": "https://localhost:8080/"
        },
        "id": "1mLEriASTvts",
        "outputId": "a37cd879-cd70-4670-c66e-baa037c19bb2"
      },
      "outputs": [
        {
          "name": "stdout",
          "output_type": "stream",
          "text": [
            "Classification Report \n",
            "               precision    recall  f1-score   support\n",
            "\n",
            "          AT       0.50      0.45      0.47        20\n",
            "       Cloud       0.33      0.17      0.22         6\n",
            "         IOT       0.00      0.00      0.00         3\n",
            "          IP       0.00      0.00      0.00         2\n",
            "          MA       1.00      0.20      0.33        10\n",
            "      Others       0.14      0.20      0.17         5\n",
            "          WA       0.61      0.82      0.70        34\n",
            "\n",
            "    accuracy                           0.51        80\n",
            "   macro avg       0.37      0.26      0.27        80\n",
            "weighted avg       0.54      0.51      0.48        80\n",
            "\n"
          ]
        }
      ],
      "source": [
        "# Classification Report\n",
        "print(\"Classification Report \\n\",classification_report(y_test, y_pred,target_names = ['AT','Cloud','IOT','IP','MA','Others','WA']))"
      ]
    },
    {
      "cell_type": "code",
      "execution_count": 32,
      "metadata": {
        "colab": {
          "base_uri": "https://localhost:8080/",
          "height": 295
        },
        "id": "uA6EDi3t2QON",
        "outputId": "1f73c2fe-3c2b-476d-aa55-00e3b6342ec2"
      },
      "outputs": [
        {
          "data": {
            "image/png": "[encoded data removed]",
            "text/plain": [
              "<Figure size 432x288 with 1 Axes>"
            ]
          },
          "metadata": {
            "needs_background": "light"
          },
          "output_type": "display_data"
        }
      ],
      "source": [
        "#ROC Curve\n",
        "\n",
        "skplt.metrics.plot_roc_curve(y_test, gnb.predict_proba(X_test))\n",
        "plt.title(\"Gaussian Naive Bayes Algorithm\")\n",
        "plt.show()"
      ]
    },
    {
      "cell_type": "code",
      "execution_count": 33,
      "metadata": {
        "colab": {
          "base_uri": "https://localhost:8080/"
        },
        "id": "m0RE8RSA2Rnl",
        "outputId": "9bc494b3-be1a-40aa-acd0-468b8987a8f0"
      },
      "outputs": [
        {
          "name": "stdout",
          "output_type": "stream",
          "text": [
            "Input  :  [3, 4, 5, 2, 4, 5, 3, 4, 5, 3]\n",
            "Output :  AI\n",
            "Input  :  [5, 5, 5, 1, 4, 5, 3, 5, 5, 3]\n",
            "Output :  Cloud\n",
            "Input  :  [4, 4, 2, 1, 4, 2, 2, 1, 1, 1]\n",
            "Output :  Others\n",
            "Input  :  [4, 4, 2, 1, 4, 2, 2, 1, 1, 1]\n",
            "Output :  Others\n",
            "Input  :  [1, 4, 2, 1, 1, 2, 2, 1, 1, 1]\n",
            "Output :  Others\n",
            "Input  :  [5, 5, 5, 3, 2, 2, 2, 5, 2, 5]\n",
            "Output :  MA\n",
            "Input  :  [5, 5, 2, 1, 2, 2, 2, 1, 1, 1]\n",
            "Output :  Others\n"
          ]
        }
      ],
      "source": [
        "#Prediction\n",
        "\n",
        "input1 = [3,4,5,2,4,5,3,4,5,3]\n",
        "input2 = [5,5,5,1,4,5,3,5,5,3]\n",
        "input3 = [4,4,2,1,4,2,2,1,1,1]\n",
        "input4 = [4,4,2,1,4,2,2,1,1,1]\n",
        "input5 = [1,4,2,1,1,2,2,1,1,1]\n",
        "input6 = [5,5,5,3,2,2,2,5,2,5]\n",
        "input7 = [5,5,2,1,2,2,2,1,1,1]\n",
        "inputs = [input1,input2,input3,input4,input5,input6,input7]\n",
        "for input in inputs:\n",
        "    print(\"Input  : \",input)\n",
        "    input = np.reshape(input,(1,10))\n",
        "    cls = gnb.predict(input)\n",
        "    if cls == 0:\n",
        "        print(\"Output :  AI\")\n",
        "    elif cls == 1:\n",
        "        print(\"Output :  Cloud\")\n",
        "    elif cls == 2:\n",
        "        print(\"Output :  IOT\")\n",
        "    elif cls == 3:\n",
        "        print(\"Output :  IP\")\n",
        "    elif cls == 4:\n",
        "        print(\"Output :  MA\")\n",
        "    elif cls==5:\n",
        "        print(\"Output :  Others\")\n",
        "    else:\n",
        "        print(\"Output :  WA\")"
      ]
    },
    {
      "cell_type": "code",
      "execution_count": 34,
      "metadata": {
        "id": "QR23LgKg2TFp"
      },
      "outputs": [],
      "source": [
        "def predict(a):\n",
        "    print(\"Ratings : \",a)\n",
        "    a = np.reshape(a,(1,10))\n",
        "    cls = gnb.predict(a)  \n",
        "    if cls == 0:\n",
        "        return \"AI\"\n",
        "    elif cls == 1:\n",
        "        return \"Cloud\"\n",
        "    elif cls == 2:\n",
        "        return \"IOT\"\n",
        "    elif cls == 3:\n",
        "        return \"IP\"\n",
        "    elif cls == 4:\n",
        "        return \"MA\"\n",
        "    elif cls==5:\n",
        "        return \"Others\"\n",
        "    else:\n",
        "        return \"WA\""
      ]
    },
    {
      "cell_type": "code",
      "execution_count": 35,
      "metadata": {
        "colab": {
          "base_uri": "https://localhost:8080/",
          "height": 53
        },
        "id": "jh3k2zMI2UfR",
        "outputId": "d3e633d0-44dc-41f6-f1de-a074679e5929"
      },
      "outputs": [
        {
          "name": "stdout",
          "output_type": "stream",
          "text": [
            "Ratings :  [5, 4, 3, 2, 4, 3, 2, 5, 4, 3]\n"
          ]
        },
        {
          "data": {
            "text/plain": [
              "'AI'"
            ]
          },
          "execution_count": 35,
          "metadata": {},
          "output_type": "execute_result"
        }
      ],
      "source": [
        "input = [5,4,3,2,4,3,2,5,4,3]\n",
        "predict(input)"
      ]
    }
  ],
  "metadata": {
    "colab": {
      "name": "Gaussian Naive Bayes.ipynb",
      "provenance": []
    },
    "kernelspec": {
      "display_name": "Python 3",
      "name": "python3"
    },
    "language_info": {
      "codemirror_mode": {
        "name": "ipython",
        "version": 3
      },
      "file_extension": ".py",
      "mimetype": "text/x-python",
      "name": "python",
      "nbconvert_exporter": "python",
      "pygments_lexer": "ipython3",
      "version": "3.8.8"
    }
  },
  "nbformat": 4,
  "nbformat_minor": 0
}
