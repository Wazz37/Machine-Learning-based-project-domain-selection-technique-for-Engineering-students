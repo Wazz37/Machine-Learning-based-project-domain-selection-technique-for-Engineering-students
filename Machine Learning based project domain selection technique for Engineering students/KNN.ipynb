{
  "cells": [
    {
      "cell_type": "markdown",
      "metadata": {
        "id": "0LVU0d8OETdB"
      },
      "source": [
        "# K Nearest Neighnor Algorithm"
      ]
    },
    {
      "cell_type": "code",
      "execution_count": 15,
      "metadata": {
        "colab": {
          "base_uri": "https://localhost:8080/"
        },
        "id": "HP_ue4V4ETdE",
        "outputId": "c8d771ca-349b-4a10-a4dd-90cbe4e6600c"
      },
      "outputs": [
        {
          "name": "stderr",
          "output_type": "stream",
          "text": [
            "WARNING: Ignoring invalid distribution -atplotlib (c:\\users\\wazid\\anaconda3\\lib\\site-packages)\n",
            "WARNING: Ignoring invalid distribution -atplotlib (c:\\users\\wazid\\anaconda3\\lib\\site-packages)\n",
            "WARNING: Ignoring invalid distribution -atplotlib (c:\\users\\wazid\\anaconda3\\lib\\site-packages)\n",
            "WARNING: Ignoring invalid distribution -atplotlib (c:\\users\\wazid\\anaconda3\\lib\\site-packages)\n",
            "WARNING: Ignoring invalid distribution -atplotlib (c:\\users\\wazid\\anaconda3\\lib\\site-packages)\n",
            "WARNING: Ignoring invalid distribution -atplotlib (c:\\users\\wazid\\anaconda3\\lib\\site-packages)\n",
            "WARNING: You are using pip version 21.3.1; however, version 22.0.3 is available.\n",
            "You should consider upgrading via the 'C:\\Users\\wazid\\anaconda3\\python.exe -m pip install --upgrade pip' command.\n"
          ]
        },
        {
          "name": "stdout",
          "output_type": "stream",
          "text": [
            "Requirement already satisfied: scikit-plot in c:\\users\\wazid\\anaconda3\\lib\\site-packages (0.3.7)\n",
            "Requirement already satisfied: matplotlib>=1.4.0 in c:\\users\\wazid\\anaconda3\\lib\\site-packages (from scikit-plot) (3.5.0)\n",
            "Requirement already satisfied: joblib>=0.10 in c:\\users\\wazid\\anaconda3\\lib\\site-packages (from scikit-plot) (1.0.1)\n",
            "Requirement already satisfied: scipy>=0.9 in c:\\users\\wazid\\anaconda3\\lib\\site-packages (from scikit-plot) (1.6.2)\n",
            "Requirement already satisfied: scikit-learn>=0.18 in c:\\users\\wazid\\anaconda3\\lib\\site-packages (from scikit-plot) (0.24.1)\n",
            "Requirement already satisfied: packaging>=20.0 in c:\\users\\wazid\\anaconda3\\lib\\site-packages (from matplotlib>=1.4.0->scikit-plot) (20.9)\n",
            "Requirement already satisfied: numpy>=1.17 in c:\\users\\wazid\\anaconda3\\lib\\site-packages (from matplotlib>=1.4.0->scikit-plot) (1.20.1)\n",
            "Requirement already satisfied: fonttools>=4.22.0 in c:\\users\\wazid\\anaconda3\\lib\\site-packages (from matplotlib>=1.4.0->scikit-plot) (4.25.0)\n",
            "Requirement already satisfied: pyparsing>=2.2.1 in c:\\users\\wazid\\anaconda3\\lib\\site-packages (from matplotlib>=1.4.0->scikit-plot) (2.4.7)\n",
            "Requirement already satisfied: cycler>=0.10 in c:\\users\\wazid\\anaconda3\\lib\\site-packages (from matplotlib>=1.4.0->scikit-plot) (0.10.0)\n",
            "Requirement already satisfied: pillow>=6.2.0 in c:\\users\\wazid\\anaconda3\\lib\\site-packages (from matplotlib>=1.4.0->scikit-plot) (8.2.0)\n",
            "Requirement already satisfied: kiwisolver>=1.0.1 in c:\\users\\wazid\\anaconda3\\lib\\site-packages (from matplotlib>=1.4.0->scikit-plot) (1.3.1)\n",
            "Requirement already satisfied: python-dateutil>=2.7 in c:\\users\\wazid\\anaconda3\\lib\\site-packages (from matplotlib>=1.4.0->scikit-plot) (2.8.1)\n",
            "Requirement already satisfied: six in c:\\users\\wazid\\anaconda3\\lib\\site-packages (from cycler>=0.10->matplotlib>=1.4.0->scikit-plot) (1.16.0)\n",
            "Requirement already satisfied: threadpoolctl>=2.0.0 in c:\\users\\wazid\\anaconda3\\lib\\site-packages (from scikit-learn>=0.18->scikit-plot) (2.1.0)\n"
          ]
        }
      ],
      "source": [
        "# Importing important libraries\n",
        "\n",
        "import pandas as pd\n",
        "import numpy as np\n",
        "import matplotlib.pyplot as plt\n",
        "import seaborn as sns\n",
        "from sklearn.model_selection import train_test_split\n",
        "from sklearn.neighbors import KNeighborsClassifier\n",
        "from sklearn.metrics import accuracy_score, confusion_matrix, r2_score, log_loss, mean_squared_error\n",
        "import math\n",
        "from sklearn.preprocessing import LabelEncoder\n",
        "!pip install scikit-plot\n",
        "import scikitplot as skplt\n",
        "from sklearn.metrics import classification_report\n",
        "import warnings\n",
        "warnings.filterwarnings('ignore')"
      ]
    },
    {
      "cell_type": "code",
      "execution_count": 16,
      "metadata": {
        "colab": {
          "base_uri": "https://localhost:8080/",
          "height": 206
        },
        "id": "IrbCfAM4ETdG",
        "outputId": "a39c0f29-40e0-4a9d-c30f-b38c4dd281cf"
      },
      "outputs": [
        {
          "data": {
            "text/html": [
              "<div>\n",
              "<style scoped>\n",
              "    .dataframe tbody tr th:only-of-type {\n",
              "        vertical-align: middle;\n",
              "    }\n",
              "\n",
              "    .dataframe tbody tr th {\n",
              "        vertical-align: top;\n",
              "    }\n",
              "\n",
              "    .dataframe thead th {\n",
              "        text-align: right;\n",
              "    }\n",
              "</style>\n",
              "<table border=\"1\" class=\"dataframe\">\n",
              "  <thead>\n",
              "    <tr style=\"text-align: right;\">\n",
              "      <th></th>\n",
              "      <th>c/c++</th>\n",
              "      <th>java</th>\n",
              "      <th>python</th>\n",
              "      <th>wt</th>\n",
              "      <th>dbms</th>\n",
              "      <th>se</th>\n",
              "      <th>ds</th>\n",
              "      <th>algo</th>\n",
              "      <th>math</th>\n",
              "      <th>stats</th>\n",
              "      <th>project</th>\n",
              "    </tr>\n",
              "  </thead>\n",
              "  <tbody>\n",
              "    <tr>\n",
              "      <th>0</th>\n",
              "      <td>4</td>\n",
              "      <td>4</td>\n",
              "      <td>4</td>\n",
              "      <td>3</td>\n",
              "      <td>4</td>\n",
              "      <td>4</td>\n",
              "      <td>4</td>\n",
              "      <td>4</td>\n",
              "      <td>4</td>\n",
              "      <td>4</td>\n",
              "      <td>AI</td>\n",
              "    </tr>\n",
              "    <tr>\n",
              "      <th>1</th>\n",
              "      <td>4</td>\n",
              "      <td>3</td>\n",
              "      <td>4</td>\n",
              "      <td>3</td>\n",
              "      <td>5</td>\n",
              "      <td>5</td>\n",
              "      <td>4</td>\n",
              "      <td>3</td>\n",
              "      <td>3</td>\n",
              "      <td>4</td>\n",
              "      <td>AI</td>\n",
              "    </tr>\n",
              "    <tr>\n",
              "      <th>2</th>\n",
              "      <td>3</td>\n",
              "      <td>3</td>\n",
              "      <td>3</td>\n",
              "      <td>3</td>\n",
              "      <td>3</td>\n",
              "      <td>5</td>\n",
              "      <td>5</td>\n",
              "      <td>5</td>\n",
              "      <td>2</td>\n",
              "      <td>4</td>\n",
              "      <td>WA</td>\n",
              "    </tr>\n",
              "    <tr>\n",
              "      <th>3</th>\n",
              "      <td>4</td>\n",
              "      <td>3</td>\n",
              "      <td>5</td>\n",
              "      <td>3</td>\n",
              "      <td>4</td>\n",
              "      <td>5</td>\n",
              "      <td>3</td>\n",
              "      <td>3</td>\n",
              "      <td>4</td>\n",
              "      <td>4</td>\n",
              "      <td>Cloud</td>\n",
              "    </tr>\n",
              "    <tr>\n",
              "      <th>4</th>\n",
              "      <td>5</td>\n",
              "      <td>2</td>\n",
              "      <td>5</td>\n",
              "      <td>3</td>\n",
              "      <td>4</td>\n",
              "      <td>5</td>\n",
              "      <td>5</td>\n",
              "      <td>5</td>\n",
              "      <td>3</td>\n",
              "      <td>3</td>\n",
              "      <td>Others</td>\n",
              "    </tr>\n",
              "  </tbody>\n",
              "</table>\n",
              "</div>"
            ],
            "text/plain": [
              "   c/c++  java  python  wt  dbms  se  ds  algo  math  stats project\n",
              "0      4     4       4   3     4   4   4     4     4      4      AI\n",
              "1      4     3       4   3     5   5   4     3     3      4      AI\n",
              "2      3     3       3   3     3   5   5     5     2      4      WA\n",
              "3      4     3       5   3     4   5   3     3     4      4   Cloud\n",
              "4      5     2       5   3     4   5   5     5     3      3  Others"
            ]
          },
          "execution_count": 16,
          "metadata": {},
          "output_type": "execute_result"
        }
      ],
      "source": [
        "df = pd.read_csv('Project.csv')\n",
        "df.head()"
      ]
    },
    {
      "cell_type": "markdown",
      "metadata": {
        "id": "sfX_n6zlETdH"
      },
      "source": [
        "Checking for accuracy on different values of random state"
      ]
    },
    {
      "cell_type": "code",
      "execution_count": 17,
      "metadata": {
        "colab": {
          "base_uri": "https://localhost:8080/"
        },
        "id": "DdbYhHEbETdH",
        "outputId": "2351925c-54eb-44c8-b0f3-8cc2ddb6c18d"
      },
      "outputs": [
        {
          "name": "stdout",
          "output_type": "stream",
          "text": [
            "Accuracy : 0.34  at random_state :  1\n",
            "Accuracy : 0.4  at random_state :  3\n",
            "Accuracy : 0.41  at random_state :  4\n",
            "Accuracy : 0.44  at random_state :  9\n",
            "Accuracy : 0.49  at random_state :  92\n",
            "Accuracy : 0.52  at random_state :  143\n"
          ]
        }
      ],
      "source": [
        "X = df.drop(columns=(['project']))\n",
        "y = df['project']  \n",
        "le = LabelEncoder()           # For encoding categorical features\n",
        "y = le.fit_transform(y)\n",
        "temp = 0\n",
        "for i in range(1,1000):\n",
        "    X_train,X_test,y_train,y_test = train_test_split(X,y,test_size=0.2,random_state=i)\n",
        "    knn = KNeighborsClassifier(n_neighbors=int(math.sqrt(df.shape[0])))\n",
        "    knn.fit(X_train,y_train)\n",
        "    acc = round(accuracy_score(knn.predict(X_test),y_test),2)\n",
        "    if acc>temp:\n",
        "        temp = acc\n",
        "        ac = temp\n",
        "        print(\"Accuracy :\",temp,\" at random_state : \",i)"
      ]
    },
    {
      "cell_type": "code",
      "execution_count": 18,
      "metadata": {
        "colab": {
          "base_uri": "https://localhost:8080/"
        },
        "id": "GERpaN2kETdI",
        "outputId": "ef0c7271-281e-40a2-c7bd-3892c9721b16"
      },
      "outputs": [
        {
          "name": "stdout",
          "output_type": "stream",
          "text": [
            "Obtained accuracy of KNN Algorithm :  52.5 %\n",
            "R2 Value                           : -0.25\n",
            "Log loss                           :  2.32\n",
            "Mean Squared Error                 :  7.89\n"
          ]
        }
      ],
      "source": [
        "X_train,X_test,y_train,y_test = train_test_split(X,y,test_size=0.2,random_state=143)\n",
        "knn = KNeighborsClassifier(n_neighbors=int(math.sqrt(df.shape[0])))\n",
        "knn.fit(X_train,y_train)\n",
        "print(\"Obtained accuracy of KNN Algorithm : \",accuracy_score(knn.predict(X_test),y_test)*100,\"%\")\n",
        "y_pred = knn.predict(X_test)\n",
        "print(\"R2 Value                           :\",round(r2_score(y_test,y_pred),2))\n",
        "print(\"Log loss                           : \",round(log_loss(y_test, knn.predict_proba(X_test)),2))\n",
        "print(\"Mean Squared Error                 : \",round(mean_squared_error(y_test,y_pred),2))"
      ]
    },
    {
      "cell_type": "code",
      "execution_count": 19,
      "metadata": {
        "colab": {
          "base_uri": "https://localhost:8080/"
        },
        "id": "vie3H0-u0Vxb",
        "outputId": "f9374249-2476-408e-9485-d962b3dac251"
      },
      "outputs": [
        {
          "data": {
            "text/plain": [
              "array([[13,  0,  0,  0,  2,  1,  6],\n",
              "       [ 2,  0,  0,  0,  0,  0,  4],\n",
              "       [ 2,  0,  0,  0,  3,  0,  1],\n",
              "       [ 2,  0,  0,  0,  0,  0,  1],\n",
              "       [ 1,  0,  0,  0,  2,  0,  3],\n",
              "       [ 5,  0,  0,  0,  0,  2,  4],\n",
              "       [ 1,  0,  0,  0,  0,  0, 25]], dtype=int64)"
            ]
          },
          "execution_count": 19,
          "metadata": {},
          "output_type": "execute_result"
        }
      ],
      "source": [
        "# Confusion Matrix\n",
        "\n",
        "cm = confusion_matrix(y_test,y_pred)\n",
        "cm"
      ]
    },
    {
      "cell_type": "code",
      "execution_count": 20,
      "metadata": {
        "colab": {
          "base_uri": "https://localhost:8080/",
          "height": 365
        },
        "id": "18hGfHFEETdJ",
        "outputId": "a7523b05-2082-40b8-b0e6-a17d7c6209b6"
      },
      "outputs": [
        {
          "data": {
            "image/png": "[encoded data removed]",
            "text/plain": [
              "<Figure size 360x360 with 2 Axes>"
            ]
          },
          "metadata": {
            "needs_background": "light"
          },
          "output_type": "display_data"
        }
      ],
      "source": [
        "#Heatmap\n",
        "\n",
        "cm = confusion_matrix(y_test,y_pred)\n",
        "cm_df = pd.DataFrame(cm, index = ['AT','Cloud','IOT','IP','MA','Others','WA'],\n",
        "                         columns = ['AT','Cloud','IOT','IP','MA','Others','WA'])\n",
        "plt.figure(figsize=(5,5))\n",
        "sns.heatmap(cm_df,annot=True, cmap='PuBu')\n",
        "plt.title('KNN Algorithm \\n Accuracy :{0:.2f}'.format(accuracy_score(y_test,y_pred)))\n",
        "plt.ylabel('True Label')\n",
        "plt.xlabel('Predicted Label')\n",
        "plt.show()"
      ]
    },
    {
      "cell_type": "code",
      "execution_count": 21,
      "metadata": {
        "colab": {
          "base_uri": "https://localhost:8080/"
        },
        "id": "lAwyykMXRfmS",
        "outputId": "ab739b10-0e6a-423b-f1e7-9527e2ef7fd5"
      },
      "outputs": [
        {
          "name": "stdout",
          "output_type": "stream",
          "text": [
            "Classification Report \n",
            "               precision    recall  f1-score   support\n",
            "\n",
            "          AT       0.50      0.59      0.54        22\n",
            "       Cloud       0.00      0.00      0.00         6\n",
            "         IOT       0.00      0.00      0.00         6\n",
            "          IP       0.00      0.00      0.00         3\n",
            "          MA       0.29      0.33      0.31         6\n",
            "      Others       0.67      0.18      0.29        11\n",
            "          WA       0.57      0.96      0.71        26\n",
            "\n",
            "    accuracy                           0.53        80\n",
            "   macro avg       0.29      0.30      0.26        80\n",
            "weighted avg       0.44      0.53      0.44        80\n",
            "\n"
          ]
        }
      ],
      "source": [
        "# Classification Report\n",
        "print(\"Classification Report \\n\",classification_report(y_test, y_pred,target_names = ['AT','Cloud','IOT','IP','MA','Others','WA']))"
      ]
    },
    {
      "cell_type": "markdown",
      "metadata": {
        "id": "jeyBWxR1ETdJ"
      },
      "source": [
        "ROC Curve"
      ]
    },
    {
      "cell_type": "code",
      "execution_count": 22,
      "metadata": {
        "colab": {
          "base_uri": "https://localhost:8080/",
          "height": 295
        },
        "id": "8glJwAr6ETdJ",
        "outputId": "533f8084-e2c9-43d7-acd7-84e529777621"
      },
      "outputs": [
        {
          "data": {
            "image/png": "[encoded data removed]",
            "text/plain": [
              "<Figure size 432x288 with 1 Axes>"
            ]
          },
          "metadata": {
            "needs_background": "light"
          },
          "output_type": "display_data"
        }
      ],
      "source": [
        "#ROC Curve\n",
        "\n",
        "skplt.metrics.plot_roc_curve(y_test, knn.predict_proba(X_test))\n",
        "plt.title(\"KNN Algorithm\")\n",
        "plt.show()"
      ]
    },
    {
      "cell_type": "code",
      "execution_count": 23,
      "metadata": {
        "colab": {
          "base_uri": "https://localhost:8080/"
        },
        "id": "d6jHDiIyyVHJ",
        "outputId": "5dc8ea06-e31c-480a-9b86-0ba13560405e"
      },
      "outputs": [
        {
          "name": "stdout",
          "output_type": "stream",
          "text": [
            "Input  :  [3, 4, 5, 2, 4, 5, 3, 4, 5, 3]\n",
            "Output :  AI\n",
            "Input  :  [5, 5, 5, 1, 4, 5, 3, 5, 5, 3]\n",
            "Output :  Cloud\n",
            "Input  :  [4, 4, 2, 1, 4, 2, 2, 1, 1, 1]\n",
            "Output :  WA\n",
            "Input  :  [4, 4, 2, 1, 4, 2, 2, 1, 1, 1]\n",
            "Output :  WA\n",
            "Input  :  [1, 4, 2, 1, 1, 2, 2, 1, 1, 1]\n",
            "Output :  AI\n",
            "Input  :  [5, 5, 5, 3, 2, 2, 2, 5, 2, 5]\n",
            "Output :  AI\n",
            "Input  :  [5, 5, 2, 1, 2, 2, 2, 1, 1, 1]\n",
            "Output :  WA\n"
          ]
        }
      ],
      "source": [
        "#Prediction\n",
        "\n",
        "input1 = [3,4,5,2,4,5,3,4,5,3]\n",
        "input2 = [5,5,5,1,4,5,3,5,5,3]\n",
        "input3 = [4,4,2,1,4,2,2,1,1,1]\n",
        "input4 = [4,4,2,1,4,2,2,1,1,1]\n",
        "input5 = [1,4,2,1,1,2,2,1,1,1]\n",
        "input6 = [5,5,5,3,2,2,2,5,2,5]\n",
        "input7 = [5,5,2,1,2,2,2,1,1,1]\n",
        "inputs = [input1,input2,input3,input4,input5,input6,input7]\n",
        "for input in inputs:\n",
        "    print(\"Input  : \",input)\n",
        "    input = np.reshape(input,(1,10))\n",
        "    cls = knn.predict(input)  \n",
        "    if cls == 0:\n",
        "        print(\"Output :  AI\")\n",
        "    elif cls == 1:\n",
        "        print(\"Output :  Cloud\")\n",
        "    elif cls == 2:\n",
        "        print(\"Output :  IOT\")\n",
        "    elif cls == 3:\n",
        "        print(\"Output :  IP\")\n",
        "    elif cls == 4:\n",
        "        print(\"Output :  MA\")\n",
        "    elif cls==5:\n",
        "        print(\"Output :  Others\")\n",
        "    else:\n",
        "        print(\"Output :  WA\")"
      ]
    },
    {
      "cell_type": "code",
      "execution_count": 24,
      "metadata": {
        "id": "MDs0EFMGyTrh"
      },
      "outputs": [],
      "source": [
        "def predict(a):\n",
        "    print(\"Ratings : \",a)\n",
        "    a = np.reshape(a,(1,10))\n",
        "    cls = knn.predict(a)  \n",
        "    if cls == 0:\n",
        "        return \"AI\"\n",
        "    elif cls == 1:\n",
        "        return \"Cloud\"\n",
        "    elif cls == 2:\n",
        "        return \"IOT\"\n",
        "    elif cls == 3:\n",
        "        return \"IP\"\n",
        "    elif cls == 4:\n",
        "        return \"MA\"\n",
        "    elif cls==5:\n",
        "        return \"Others\"\n",
        "    else:\n",
        "        return \"WA\""
      ]
    },
    {
      "cell_type": "code",
      "execution_count": 25,
      "metadata": {
        "colab": {
          "base_uri": "https://localhost:8080/",
          "height": 53
        },
        "id": "4IhLGFT4ETdK",
        "outputId": "02d690da-e12a-45f7-83f6-5b4ecbf3e7ba"
      },
      "outputs": [
        {
          "name": "stdout",
          "output_type": "stream",
          "text": [
            "Ratings :  [5, 4, 3, 2, 4, 3, 2, 5, 4, 3]\n"
          ]
        },
        {
          "data": {
            "text/plain": [
              "'MA'"
            ]
          },
          "execution_count": 25,
          "metadata": {},
          "output_type": "execute_result"
        }
      ],
      "source": [
        "input = [5,4,3,2,4,3,2,5,4,3]\n",
        "predict(input)"
      ]
    },
    {
      "cell_type": "code",
      "execution_count": 26,
      "metadata": {
        "colab": {
          "base_uri": "https://localhost:8080/",
          "height": 53
        },
        "id": "mA5O_nlY5_N3",
        "outputId": "e494eea9-0e1a-4d40-d94a-76508921fa46"
      },
      "outputs": [
        {
          "name": "stdout",
          "output_type": "stream",
          "text": [
            "Ratings :  [4, 5, 3, 4, 5, 3, 4, 2, 4, 5]\n"
          ]
        },
        {
          "data": {
            "text/plain": [
              "'WA'"
            ]
          },
          "execution_count": 26,
          "metadata": {},
          "output_type": "execute_result"
        }
      ],
      "source": [
        "input1 = [4,5,3,4,5,3,4,2,4,5]\n",
        "predict(input1)"
      ]
    }
  ],
  "metadata": {
    "colab": {
      "name": "KNN.ipynb",
      "provenance": []
    },
    "interpreter": {
      "hash": "4259f59666d3d1eb7dea894bdecdb4aae613210df1e3705d2a8c1b7865cbef47"
    },
    "kernelspec": {
      "display_name": "Python 3.8.8 ('base')",
      "language": "python",
      "name": "python3"
    },
    "language_info": {
      "codemirror_mode": {
        "name": "ipython",
        "version": 3
      },
      "file_extension": ".py",
      "mimetype": "text/x-python",
      "name": "python",
      "nbconvert_exporter": "python",
      "pygments_lexer": "ipython3",
      "version": "3.8.8"
    }
  },
  "nbformat": 4,
  "nbformat_minor": 0
}
